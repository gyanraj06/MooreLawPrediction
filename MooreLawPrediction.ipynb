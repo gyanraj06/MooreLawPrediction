{
  "nbformat": 4,
  "nbformat_minor": 0,
  "metadata": {
    "colab": {
      "provenance": []
    },
    "kernelspec": {
      "name": "python3",
      "display_name": "Python 3"
    },
    "language_info": {
      "name": "python"
    }
  },
  "cells": [
    {
      "cell_type": "markdown",
      "source": [
        "#**Moore Law Prediction**\n",
        "Moore's Law is an observation made by Gordon Moore, co-founder of Intel, in a 1965 paper. He noticed that the number of transistors per square inch on integrated circuits had doubled every year since their invention. Moore predicted that this trend would continue into the foreseeable future.\n",
        "In 1975, Moore revised his prediction, stating that the doubling would occur every two years. Despite the common misconception, Moore's Law is not a physical or natural law but rather an observation and projection of a technological trend.\n",
        "\n",
        "###*This Code helps to predict the certainity of Moore's Law and its future* ***Moore's Law and its future***"
      ],
      "metadata": {
        "id": "569mqycNtsfW"
      }
    },
    {
      "cell_type": "code",
      "metadata": {
        "id": "5sQXOqX2-iGM"
      },
      "source": [
        "import pandas as pd\n",
        "import numpy as np\n",
        "import matplotlib.pyplot as plt\n"
      ],
      "execution_count": null,
      "outputs": []
    },
    {
      "cell_type": "code",
      "metadata": {
        "id": "Bkq9NvudB6sE"
      },
      "source": [
        "# https://www.karlrupp.net/2015/06/40-years-of-microprocessor-trend-data/"
      ],
      "execution_count": null,
      "outputs": []
    },
    {
      "cell_type": "code",
      "metadata": {
        "id": "B1-1QbFe-pIx"
      },
      "source": [
        "df = pd.read_csv('40years-transistors.dat', header=None, delimiter=r\"\\s+\")"
      ],
      "execution_count": null,
      "outputs": []
    },
    {
      "cell_type": "code",
      "metadata": {
        "colab": {
          "base_uri": "https://localhost:8080/",
          "height": 206
        },
        "id": "ckwLoYodAC8k",
        "outputId": "8f9f86a9-1607-4901-ecae-14e01d5917b7"
      },
      "source": [
        "df.columns = ['year', 'Number']\n",
        "df=df.dropna()\n",
        "df.head()\n"
      ],
      "execution_count": null,
      "outputs": [
        {
          "output_type": "execute_result",
          "data": {
            "text/html": [
              "<div>\n",
              "<style scoped>\n",
              "    .dataframe tbody tr th:only-of-type {\n",
              "        vertical-align: middle;\n",
              "    }\n",
              "\n",
              "    .dataframe tbody tr th {\n",
              "        vertical-align: top;\n",
              "    }\n",
              "\n",
              "    .dataframe thead th {\n",
              "        text-align: right;\n",
              "    }\n",
              "</style>\n",
              "<table border=\"1\" class=\"dataframe\">\n",
              "  <thead>\n",
              "    <tr style=\"text-align: right;\">\n",
              "      <th></th>\n",
              "      <th>year</th>\n",
              "      <th>Number</th>\n",
              "    </tr>\n",
              "  </thead>\n",
              "  <tbody>\n",
              "    <tr>\n",
              "      <th>0</th>\n",
              "      <td>1971.875</td>\n",
              "      <td>2.308242</td>\n",
              "    </tr>\n",
              "    <tr>\n",
              "      <th>1</th>\n",
              "      <td>1972.30769231</td>\n",
              "      <td>3.554522</td>\n",
              "    </tr>\n",
              "    <tr>\n",
              "      <th>2</th>\n",
              "      <td>1974.32692308</td>\n",
              "      <td>6.097562</td>\n",
              "    </tr>\n",
              "    <tr>\n",
              "      <th>3</th>\n",
              "      <td>1979.56730769</td>\n",
              "      <td>29.163776</td>\n",
              "    </tr>\n",
              "    <tr>\n",
              "      <th>4</th>\n",
              "      <td>1982.30769231</td>\n",
              "      <td>135.772714</td>\n",
              "    </tr>\n",
              "  </tbody>\n",
              "</table>\n",
              "</div>"
            ],
            "text/plain": [
              "            year      Number\n",
              "0       1971.875    2.308242\n",
              "1  1972.30769231    3.554522\n",
              "2  1974.32692308    6.097562\n",
              "3  1979.56730769   29.163776\n",
              "4  1982.30769231  135.772714"
            ]
          },
          "metadata": {
            "tags": []
          },
          "execution_count": 63
        }
      ]
    },
    {
      "cell_type": "code",
      "metadata": {
        "colab": {
          "base_uri": "https://localhost:8080/"
        },
        "id": "7FJmRLZEE3_g",
        "outputId": "e1ccd05a-81df-4d55-a9dc-a27d862b00a2"
      },
      "source": [
        "df.isnull().sum()"
      ],
      "execution_count": null,
      "outputs": [
        {
          "output_type": "execute_result",
          "data": {
            "text/plain": [
              "year      0\n",
              "Number    0\n",
              "dtype: int64"
            ]
          },
          "metadata": {
            "tags": []
          },
          "execution_count": 64
        }
      ]
    },
    {
      "cell_type": "code",
      "metadata": {
        "colab": {
          "base_uri": "https://localhost:8080/",
          "height": 293
        },
        "id": "pp1vNCy7ADts",
        "outputId": "3f7cb4cc-0f53-406f-8f74-4e6852320249"
      },
      "source": [
        "plt.scatter(df['year'], df['Number'])"
      ],
      "execution_count": null,
      "outputs": [
        {
          "output_type": "execute_result",
          "data": {
            "text/plain": [
              "<matplotlib.collections.PathCollection at 0x7f4ceb4c0b50>"
            ]
          },
          "metadata": {
            "tags": []
          },
          "execution_count": 65
        },
        {
          "output_type": "display_data",
          "data": {
            "image/png": "[encoded data removed]",
            "text/plain": [
              "<Figure size 432x288 with 1 Axes>"
            ]
          },
          "metadata": {
            "tags": [],
            "needs_background": "light"
          }
        }
      ]
    },
    {
      "cell_type": "code",
      "metadata": {
        "id": "Qb20VQIRA6jn"
      },
      "source": [
        "import torch\n",
        "import torch.nn as nn"
      ],
      "execution_count": null,
      "outputs": []
    },
    {
      "cell_type": "code",
      "metadata": {
        "id": "TRyKtOT7By1S"
      },
      "source": [
        "X = df['year']\n",
        "Y = df['Number']"
      ],
      "execution_count": null,
      "outputs": []
    },
    {
      "cell_type": "code",
      "metadata": {
        "colab": {
          "base_uri": "https://localhost:8080/"
        },
        "id": "XLw0susUCJb0",
        "outputId": "6cd3fb3a-0d43-47a5-cb97-82977b7af949"
      },
      "source": [
        "Y"
      ],
      "execution_count": null,
      "outputs": [
        {
          "output_type": "execute_result",
          "data": {
            "text/plain": [
              "0     2.308242e+00\n",
              "1     3.554522e+00\n",
              "2     6.097562e+00\n",
              "3     2.916378e+01\n",
              "4     1.357727e+02\n",
              "          ...     \n",
              "83    4.300000e+06\n",
              "84    4.200000e+06\n",
              "85    2.600000e+06\n",
              "86    3.800000e+06\n",
              "87    5.700000e+06\n",
              "Name: Number, Length: 87, dtype: float64"
            ]
          },
          "metadata": {
            "tags": []
          },
          "execution_count": 77
        }
      ]
    },
    {
      "cell_type": "code",
      "metadata": {
        "colab": {
          "base_uri": "https://localhost:8080/",
          "height": 282
        },
        "id": "Ma0jDNJ1Cfn9",
        "outputId": "0e2e08a9-fcd0-4691-8600-e11129efd6e8"
      },
      "source": [
        "plt.scatter(X,np.log(Y))"
      ],
      "execution_count": null,
      "outputs": [
        {
          "output_type": "execute_result",
          "data": {
            "text/plain": [
              "<matplotlib.collections.PathCollection at 0x7f4d3cb4d9d0>"
            ]
          },
          "metadata": {
            "tags": []
          },
          "execution_count": 78
        },
        {
          "output_type": "display_data",
          "data": {
            "image/png": "[encoded data removed]",
            "text/plain": [
              "<Figure size 432x288 with 1 Axes>"
            ]
          },
          "metadata": {
            "tags": [],
            "needs_background": "light"
          }
        }
      ]
    },
    {
      "cell_type": "code",
      "metadata": {
        "id": "LsU9Ho3BC1Jl"
      },
      "source": [
        "Y = np.log(Y).astype(np.float32)\n",
        "X =X.astype(np.float32)"
      ],
      "execution_count": null,
      "outputs": []
    },
    {
      "cell_type": "code",
      "metadata": {
        "id": "zr_pZ-eZEJEF"
      },
      "source": [
        "mx = X.mean()\n",
        "sx = X.std()\n",
        "my = Y.mean()\n",
        "sy = Y.std()\n",
        "X = (X-mx)/sx\n",
        "Y =(Y-my)/sy"
      ],
      "execution_count": null,
      "outputs": []
    },
    {
      "cell_type": "code",
      "metadata": {
        "colab": {
          "base_uri": "https://localhost:8080/",
          "height": 282
        },
        "id": "_CwAJhaJEWc6",
        "outputId": "f07c86f7-df1d-4cc8-fb44-3fd997934421"
      },
      "source": [
        "plt.scatter(X,Y)"
      ],
      "execution_count": null,
      "outputs": [
        {
          "output_type": "execute_result",
          "data": {
            "text/plain": [
              "<matplotlib.collections.PathCollection at 0x7f4cea654350>"
            ]
          },
          "metadata": {
            "tags": []
          },
          "execution_count": 81
        },
        {
          "output_type": "display_data",
          "data": {
            "image/png": "[encoded data removed]",
            "text/plain": [
              "<Figure size 432x288 with 1 Axes>"
            ]
          },
          "metadata": {
            "tags": [],
            "needs_background": "light"
          }
        }
      ]
    },
    {
      "cell_type": "code",
      "metadata": {
        "id": "SfOqPKcgFHes"
      },
      "source": [
        "model = nn.Linear(1,1)\n",
        "criterion = nn.MSELoss()\n",
        "optimizer = torch.optim.SGD(model.parameters(), lr=0.01, momentum=0.7)\n",
        "inputs = torch.from_numpy(X.values.reshape(-1,1))\n",
        "targets = torch.from_numpy(Y.values.reshape(-1,1))\n"
      ],
      "execution_count": null,
      "outputs": []
    },
    {
      "cell_type": "code",
      "metadata": {
        "colab": {
          "base_uri": "https://localhost:8080/"
        },
        "id": "FaBDd54oF6s-",
        "outputId": "a6c6b197-49d3-4b9c-fcbc-d982b9ef79ff"
      },
      "source": [
        "n_epochs =100\n",
        "losses = []\n",
        "for it in range(n_epochs):\n",
        "  optimizer.zero_grad()\n",
        "  outputs = model(inputs)\n",
        "  loss = criterion(outputs, targets)\n",
        "  losses.append(loss.item())\n",
        "  loss.backward()\n",
        "  optimizer.step()\n",
        "\n",
        "  print(f'Epoch {it+1} of {n_epochs}, loss: {loss.item():.4f}')\n"
      ],
      "execution_count": null,
      "outputs": [
        {
          "output_type": "stream",
          "text": [
            "Epoch 1 of 100, loss: 1.6597\n",
            "Epoch 2 of 100, loss: 1.5957\n",
            "Epoch 3 of 100, loss: 1.4909\n",
            "Epoch 4 of 100, loss: 1.3638\n",
            "Epoch 5 of 100, loss: 1.2274\n",
            "Epoch 6 of 100, loss: 1.0911\n",
            "Epoch 7 of 100, loss: 0.9606\n",
            "Epoch 8 of 100, loss: 0.8395\n",
            "Epoch 9 of 100, loss: 0.7294\n",
            "Epoch 10 of 100, loss: 0.6310\n",
            "Epoch 11 of 100, loss: 0.5441\n",
            "Epoch 12 of 100, loss: 0.4681\n",
            "Epoch 13 of 100, loss: 0.4022\n",
            "Epoch 14 of 100, loss: 0.3453\n",
            "Epoch 15 of 100, loss: 0.2965\n",
            "Epoch 16 of 100, loss: 0.2548\n",
            "Epoch 17 of 100, loss: 0.2192\n",
            "Epoch 18 of 100, loss: 0.1890\n",
            "Epoch 19 of 100, loss: 0.1634\n",
            "Epoch 20 of 100, loss: 0.1417\n",
            "Epoch 21 of 100, loss: 0.1234\n",
            "Epoch 22 of 100, loss: 0.1079\n",
            "Epoch 23 of 100, loss: 0.0949\n",
            "Epoch 24 of 100, loss: 0.0839\n",
            "Epoch 25 of 100, loss: 0.0746\n",
            "Epoch 26 of 100, loss: 0.0668\n",
            "Epoch 27 of 100, loss: 0.0603\n",
            "Epoch 28 of 100, loss: 0.0548\n",
            "Epoch 29 of 100, loss: 0.0501\n",
            "Epoch 30 of 100, loss: 0.0462\n",
            "Epoch 31 of 100, loss: 0.0430\n",
            "Epoch 32 of 100, loss: 0.0402\n",
            "Epoch 33 of 100, loss: 0.0379\n",
            "Epoch 34 of 100, loss: 0.0360\n",
            "Epoch 35 of 100, loss: 0.0344\n",
            "Epoch 36 of 100, loss: 0.0330\n",
            "Epoch 37 of 100, loss: 0.0318\n",
            "Epoch 38 of 100, loss: 0.0309\n",
            "Epoch 39 of 100, loss: 0.0301\n",
            "Epoch 40 of 100, loss: 0.0294\n",
            "Epoch 41 of 100, loss: 0.0288\n",
            "Epoch 42 of 100, loss: 0.0284\n",
            "Epoch 43 of 100, loss: 0.0280\n",
            "Epoch 44 of 100, loss: 0.0276\n",
            "Epoch 45 of 100, loss: 0.0273\n",
            "Epoch 46 of 100, loss: 0.0271\n",
            "Epoch 47 of 100, loss: 0.0269\n",
            "Epoch 48 of 100, loss: 0.0267\n",
            "Epoch 49 of 100, loss: 0.0266\n",
            "Epoch 50 of 100, loss: 0.0265\n",
            "Epoch 51 of 100, loss: 0.0264\n",
            "Epoch 52 of 100, loss: 0.0263\n",
            "Epoch 53 of 100, loss: 0.0262\n",
            "Epoch 54 of 100, loss: 0.0262\n",
            "Epoch 55 of 100, loss: 0.0261\n",
            "Epoch 56 of 100, loss: 0.0261\n",
            "Epoch 57 of 100, loss: 0.0260\n",
            "Epoch 58 of 100, loss: 0.0260\n",
            "Epoch 59 of 100, loss: 0.0260\n",
            "Epoch 60 of 100, loss: 0.0260\n",
            "Epoch 61 of 100, loss: 0.0259\n",
            "Epoch 62 of 100, loss: 0.0259\n",
            "Epoch 63 of 100, loss: 0.0259\n",
            "Epoch 64 of 100, loss: 0.0259\n",
            "Epoch 65 of 100, loss: 0.0259\n",
            "Epoch 66 of 100, loss: 0.0259\n",
            "Epoch 67 of 100, loss: 0.0259\n",
            "Epoch 68 of 100, loss: 0.0259\n",
            "Epoch 69 of 100, loss: 0.0259\n",
            "Epoch 70 of 100, loss: 0.0259\n",
            "Epoch 71 of 100, loss: 0.0259\n",
            "Epoch 72 of 100, loss: 0.0259\n",
            "Epoch 73 of 100, loss: 0.0259\n",
            "Epoch 74 of 100, loss: 0.0259\n",
            "Epoch 75 of 100, loss: 0.0259\n",
            "Epoch 76 of 100, loss: 0.0259\n",
            "Epoch 77 of 100, loss: 0.0259\n",
            "Epoch 78 of 100, loss: 0.0259\n",
            "Epoch 79 of 100, loss: 0.0259\n",
            "Epoch 80 of 100, loss: 0.0259\n",
            "Epoch 81 of 100, loss: 0.0259\n",
            "Epoch 82 of 100, loss: 0.0259\n",
            "Epoch 83 of 100, loss: 0.0259\n",
            "Epoch 84 of 100, loss: 0.0259\n",
            "Epoch 85 of 100, loss: 0.0259\n",
            "Epoch 86 of 100, loss: 0.0259\n",
            "Epoch 87 of 100, loss: 0.0259\n",
            "Epoch 88 of 100, loss: 0.0259\n",
            "Epoch 89 of 100, loss: 0.0259\n",
            "Epoch 90 of 100, loss: 0.0259\n",
            "Epoch 91 of 100, loss: 0.0259\n",
            "Epoch 92 of 100, loss: 0.0259\n",
            "Epoch 93 of 100, loss: 0.0259\n",
            "Epoch 94 of 100, loss: 0.0259\n",
            "Epoch 95 of 100, loss: 0.0259\n",
            "Epoch 96 of 100, loss: 0.0259\n",
            "Epoch 97 of 100, loss: 0.0259\n",
            "Epoch 98 of 100, loss: 0.0259\n",
            "Epoch 99 of 100, loss: 0.0259\n",
            "Epoch 100 of 100, loss: 0.0259\n"
          ],
          "name": "stdout"
        }
      ]
    },
    {
      "cell_type": "code",
      "metadata": {
        "colab": {
          "base_uri": "https://localhost:8080/",
          "height": 282
        },
        "id": "Ct4DOMgMG6iN",
        "outputId": "a3cc8541-7ed5-46ac-d3cd-c3463f75d00b"
      },
      "source": [
        "plt.plot(losses)"
      ],
      "execution_count": null,
      "outputs": [
        {
          "output_type": "execute_result",
          "data": {
            "text/plain": [
              "[<matplotlib.lines.Line2D at 0x7f4cea4daf90>]"
            ]
          },
          "metadata": {
            "tags": []
          },
          "execution_count": 89
        },
        {
          "output_type": "display_data",
          "data": {
            "image/png": "[encoded data removed]",
            "text/plain": [
              "<Figure size 432x288 with 1 Axes>"
            ]
          },
          "metadata": {
            "tags": [],
            "needs_background": "light"
          }
        }
      ]
    },
    {
      "cell_type": "code",
      "metadata": {
        "colab": {
          "base_uri": "https://localhost:8080/",
          "height": 265
        },
        "id": "onl6kbCSHNI2",
        "outputId": "df95ce95-f088-4e5b-9e82-c04676d021ad"
      },
      "source": [
        "predicted = model(torch.from_numpy(X.values.reshape(-1,1))).detach().numpy()\n",
        "plt.plot(X,Y, 'ro', label ='Original')\n",
        "plt.plot(X,predicted, label='fit line')\n",
        "plt.legend()\n",
        "plt.show()"
      ],
      "execution_count": null,
      "outputs": [
        {
          "output_type": "display_data",
          "data": {
            "image/png": "[encoded data removed]",
            "text/plain": [
              "<Figure size 432x288 with 1 Axes>"
            ]
          },
          "metadata": {
            "tags": [],
            "needs_background": "light"
          }
        }
      ]
    },
    {
      "cell_type": "code",
      "metadata": {
        "colab": {
          "base_uri": "https://localhost:8080/"
        },
        "id": "EA6mRaw-Hneh",
        "outputId": "5f441b03-d2b7-46ad-9702-a522bbf84c9f"
      },
      "source": [
        "w = model.weight.data.numpy()\n",
        "w"
      ],
      "execution_count": null,
      "outputs": [
        {
          "output_type": "execute_result",
          "data": {
            "text/plain": [
              "array([[0.9865628]], dtype=float32)"
            ]
          },
          "metadata": {
            "tags": []
          },
          "execution_count": 95
        }
      ]
    }
  ]
}